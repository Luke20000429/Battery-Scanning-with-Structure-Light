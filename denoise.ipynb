{
 "metadata": {
  "language_info": {
   "codemirror_mode": {
    "name": "ipython",
    "version": 3
   },
   "file_extension": ".py",
   "mimetype": "text/x-python",
   "name": "python",
   "nbconvert_exporter": "python",
   "pygments_lexer": "ipython3",
   "version": "3.8.6"
  },
  "orig_nbformat": 2,
  "kernelspec": {
   "name": "python386jvsc74a57bd08d7437d109cb4990f43ee27100ea9916bfedca7758194b0fcdd55f6030d2bfdf",
   "display_name": "Python 3.8.6 64-bit"
  }
 },
 "nbformat": 4,
 "nbformat_minor": 2,
 "cells": [
  {
   "cell_type": "code",
   "execution_count": 1,
   "metadata": {},
   "outputs": [],
   "source": [
    "import numpy as np\n",
    "import open3d as o3d\n",
    "import copy\n",
    "from matplotlib import pyplot as plt"
   ]
  },
  {
   "cell_type": "code",
   "execution_count": 2,
   "metadata": {},
   "outputs": [],
   "source": [
    "from readData import *\n",
    "# from showFig import *\n",
    "from showCloud import *\n",
    "from pcd import MyPcd"
   ]
  },
  {
   "cell_type": "code",
   "execution_count": 3,
   "metadata": {},
   "outputs": [],
   "source": [
    "pcd = MyPcd(\"..//nomarker//nomarker2.npy\")\n",
    "pcd.filterPoints()\n",
    "pcd.np2pcd()\n",
    "pcd.downSample()"
   ]
  },
  {
   "cell_type": "code",
   "execution_count": 6,
   "metadata": {},
   "outputs": [
    {
     "output_type": "stream",
     "name": "stdout",
     "text": [
      "(2771191, 3)\n"
     ]
    },
    {
     "output_type": "execute_result",
     "data": {
      "text/plain": [
       "(2771191, 4)"
      ]
     },
     "metadata": {},
     "execution_count": 6
    }
   ],
   "source": [
    "denoise_pcd = pcd.denoise_statistical()\n",
    "# denoise_pcd = pcd.denoise_radius(5, 1)\n",
    "denoise_points = pcd.pcd2np(denoise_pcd)\n",
    "denoise_points.shape"
   ]
  },
  {
   "cell_type": "code",
   "execution_count": 7,
   "metadata": {},
   "outputs": [],
   "source": [
    "down_points = filterPoints(denoise_points, skip=20)\n",
    "noise_points = filterPoints(pcd.points[pcd.mask], skip=20)\n",
    "fig = dynVisual([down_points, noise_points], [\"denoise\", \"noise\"])\n",
    "fig.write_html(\"denoise.html\")"
   ]
  },
  {
   "cell_type": "code",
   "execution_count": 42,
   "metadata": {},
   "outputs": [],
   "source": [
    "pcd.estimate_normals(o3d.geometry.KDTreeSearchParamHybrid(radius=0.3, max_nn=10))\n",
    "o3d.visualization.draw_geometries([pcd], point_show_normal=True)"
   ]
  },
  {
   "cell_type": "code",
   "execution_count": 35,
   "metadata": {},
   "outputs": [],
   "source": [
    "normals = np.asarray(pcd.normals)"
   ]
  },
  {
   "cell_type": "code",
   "execution_count": 39,
   "metadata": {},
   "outputs": [
    {
     "output_type": "execute_result",
     "data": {
      "text/plain": [
       "0.9997689130715128"
      ]
     },
     "metadata": {},
     "execution_count": 39
    }
   ],
   "source": [
    "normals[:,0]"
   ]
  },
  {
   "cell_type": "code",
   "execution_count": 26,
   "metadata": {},
   "outputs": [],
   "source": [
    "down_pcd = filterPoints(denoise_pcd, skip=20)\n",
    "noise_down_pcd = filterPoints(points0, skip=20)\n",
    "fig = dynVisual([down_pcd, noise_down_pcd], [\"denoise\", \"noise\"])\n",
    "# fig = dynVisual([down_pcd], [\"denoise\"])\n",
    "fig.write_html(\"denoise.html\")"
   ]
  },
  {
   "cell_type": "code",
   "execution_count": null,
   "metadata": {},
   "outputs": [],
   "source": []
  }
 ]
}