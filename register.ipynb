{
 "metadata": {
  "language_info": {
   "codemirror_mode": {
    "name": "ipython",
    "version": 3
   },
   "file_extension": ".py",
   "mimetype": "text/x-python",
   "name": "python",
   "nbconvert_exporter": "python",
   "pygments_lexer": "ipython3",
   "version": "3.8.6"
  },
  "orig_nbformat": 2,
  "kernelspec": {
   "name": "python386jvsc74a57bd08d7437d109cb4990f43ee27100ea9916bfedca7758194b0fcdd55f6030d2bfdf",
   "display_name": "Python 3.8.6 64-bit"
  }
 },
 "nbformat": 4,
 "nbformat_minor": 2,
 "cells": [
  {
   "cell_type": "code",
   "execution_count": 1,
   "metadata": {},
   "outputs": [],
   "source": [
    "import numpy as np\n",
    "import open3d as o3d\n",
    "import copy\n",
    "from matplotlib import pyplot as plt"
   ]
  },
  {
   "cell_type": "code",
   "execution_count": 2,
   "metadata": {},
   "outputs": [],
   "source": [
    "from readData import *\n",
    "from showFig import *\n",
    "from showCloud import *\n",
    "from warp import *"
   ]
  },
  {
   "cell_type": "code",
   "execution_count": 3,
   "metadata": {},
   "outputs": [],
   "source": [
    "def draw_transform(src, tgt, T):\n",
    "    srct = copy.deepcopy(src)\n",
    "    tgtt = copy.deepcopy(tgt)\n",
    "    srct.paint_uniform_color([1, 0.5, 0])\n",
    "    tgtt.paint_uniform_color([0, 0.5, 0.9])\n",
    "    srct.transform(T)\n",
    "    o3d.visualization.draw_geometries([srct, tgtt])\n",
    "    return src.transform(T)"
   ]
  },
  {
   "cell_type": "code",
   "execution_count": 4,
   "metadata": {},
   "outputs": [],
   "source": [
    "def preprocess(pcd, voxel_size):\n",
    "    pcd_down = pcd.voxel_down_sample(voxel_size)\n",
    "    radius_normal = voxel_size * 2\n",
    "    pcd_down.estimate_normals(\n",
    "        o3d.geometry.KDTreeSearchParamHybrid(radius=radius_normal, max_nn=30)\n",
    "    )\n",
    "\n",
    "    radius_feature = voxel_size * 50\n",
    "    pcd_fpfh = o3d.pipelines.registration.compute_fpfh_feature(\n",
    "        pcd_down,\n",
    "        o3d.geometry.KDTreeSearchParamHybrid(radius=radius_feature, max_nn=100)\n",
    "    )\n",
    "    print(pcd_fpfh.data.mean())\n",
    "    # print(pcd_fpfh.data.max())\n",
    "    return pcd_down, pcd_fpfh "
   ]
  },
  {
   "cell_type": "code",
   "execution_count": 5,
   "metadata": {},
   "outputs": [],
   "source": [
    "def showFeature(pcd, pcdf, eps=0.6):\n",
    "    scale = np.linalg.norm(pcdf.data, axis=0)\n",
    "    # plt.plot(list(range(len(scale0))), scale0)\n",
    "    # plt.show()\n",
    "    pcdc = np.hstack([np.asarray(pcd.points), scale.reshape(-1,1)])\n",
    "    pcdc = pcdc[(scale>=300) & (scale<=350)]\n",
    "    pcdc[:,3] = 1-(pcdc[:,3]-pcdc[:,3].min())/(pcdc[:,3].max()-pcdc[:,3].min())\n",
    "    # pcdc[:,3][pcdc[:,3]<eps] = 0 \n",
    "    print(pcdc.shape)\n",
    "    return pcdc"
   ]
  },
  {
   "cell_type": "code",
   "execution_count": 6,
   "metadata": {},
   "outputs": [],
   "source": [
    "def filterFeature(raw_pcd, raw_pcdf, eps=0.8):\n",
    "    pcd = copy.deepcopy(raw_pcd)\n",
    "    pcdf = copy.deepcopy(raw_pcdf)\n",
    "    scale = np.linalg.norm(pcdf.data, axis=0)\n",
    "    pcdc = np.hstack([np.asarray(pcd.points), pcdf.data.swapaxes(0,1), scale.reshape(-1,1)])\n",
    "    pcdc = pcdc[(scale>=300) & (scale<=350)]\n",
    "    pcdc[:,-1] = 1-(pcdc[:,-1]-pcdc[:,-1].min())/(pcdc[:,-1].max()-pcdc[:,-1].min())\n",
    "    pcdc = pcdc[pcdc[:,-1]>eps]\n",
    "    pcd.points = o3d.utility.Vector3dVector(pcdc[:, :3])\n",
    "    pcdf.data = pcdc[:, 3:3+33].swapaxes(0,1)\n",
    "    # print(feature.shape)\n",
    "    return pcd, pcdf"
   ]
  },
  {
   "cell_type": "code",
   "execution_count": 7,
   "metadata": {},
   "outputs": [
    {
     "output_type": "stream",
     "name": "stdout",
     "text": [
      "read in ..\\dataset\\scan0.npy\n",
      "x range: -197 ~ 198\n",
      "y range: -153 ~ 145\n",
      "z range: -66 ~ 0\n",
      "read in ..\\dataset\\scan1.npy\n",
      "x range: -197 ~ 198\n",
      "y range: -158 ~ 145\n",
      "z range: -69 ~ 0\n"
     ]
    }
   ],
   "source": [
    "points0, mat0 = getPoints(\"..\\dataset\\scan0.npy\", prange=(200, 150, (-100, -30)), skip=20)\n",
    "points1, mat1 = getPoints(\"..\\dataset\\scan1.npy\", prange=(200, 150, (-100, -30)), skip=20)"
   ]
  },
  {
   "cell_type": "code",
   "execution_count": 8,
   "metadata": {},
   "outputs": [
    {
     "output_type": "stream",
     "name": "stdout",
     "text": [
      "18.181818181818183\n18.181305223201118\n"
     ]
    }
   ],
   "source": [
    "voxel_size = 0.1\n",
    "src = o3d.geometry.PointCloud()\n",
    "src.points = o3d.utility.Vector3dVector(points0)\n",
    "tgt = o3d.geometry.PointCloud()\n",
    "tgt.points = o3d.utility.Vector3dVector(points1)\n",
    "# o3d.visualization.draw_geometries([src, tgt])\n",
    "srcd, srcf = preprocess(src, voxel_size)\n",
    "tgtd, tgtf = preprocess(tgt, voxel_size)\n",
    "\n",
    "src_sparse, srcf = filterFeature(srcd, srcf)\n",
    "tgt_sparse, tgtf = filterFeature(tgtd, tgtf)\n",
    "# print(len(src.points))\n",
    "# print(srcf.data.shape)"
   ]
  },
  {
   "cell_type": "code",
   "execution_count": 9,
   "metadata": {},
   "outputs": [
    {
     "output_type": "execute_result",
     "data": {
      "text/plain": [
       "PointCloud with 35414 points."
      ]
     },
     "metadata": {},
     "execution_count": 9
    }
   ],
   "source": [
    "result = o3d.pipelines.registration.registration_fast_based_on_feature_matching(\n",
    "    src_sparse, tgt_sparse,\n",
    "    srcf, tgtf\n",
    ")\n",
    "draw_transform(srcd, tgtd, result.transformation)"
   ]
  },
  {
   "cell_type": "code",
   "execution_count": 10,
   "metadata": {},
   "outputs": [
    {
     "output_type": "execute_result",
     "data": {
      "text/plain": [
       "PointCloud with 1008 points."
      ]
     },
     "metadata": {},
     "execution_count": 10
    }
   ],
   "source": [
    "draw_transform(src_sparse, tgt_sparse, result.transformation)"
   ]
  },
  {
   "cell_type": "code",
   "execution_count": 15,
   "metadata": {},
   "outputs": [
    {
     "output_type": "error",
     "ename": "ValueError",
     "evalue": "all the input array dimensions for the concatenation axis must match exactly, but along dimension 0, the array at index 0 has size 35414 and the array at index 1 has size 1008",
     "traceback": [
      "\u001b[1;31m---------------------------------------------------------------------------\u001b[0m",
      "\u001b[1;31mValueError\u001b[0m                                Traceback (most recent call last)",
      "\u001b[1;32m<ipython-input-15-535b6328a9f5>\u001b[0m in \u001b[0;36m<module>\u001b[1;34m\u001b[0m\n\u001b[1;32m----> 1\u001b[1;33m \u001b[0msrcc\u001b[0m \u001b[1;33m=\u001b[0m \u001b[0mshowFeature\u001b[0m\u001b[1;33m(\u001b[0m\u001b[0msrcd\u001b[0m\u001b[1;33m,\u001b[0m \u001b[0msrcf\u001b[0m\u001b[1;33m)\u001b[0m\u001b[1;33m\u001b[0m\u001b[1;33m\u001b[0m\u001b[0m\n\u001b[0m\u001b[0;32m      2\u001b[0m \u001b[0mtgtc\u001b[0m \u001b[1;33m=\u001b[0m \u001b[0mshowFeature\u001b[0m\u001b[1;33m(\u001b[0m\u001b[0mtgtd\u001b[0m\u001b[1;33m,\u001b[0m \u001b[0mtgtf\u001b[0m\u001b[1;33m)\u001b[0m\u001b[1;33m\u001b[0m\u001b[1;33m\u001b[0m\u001b[0m\n",
      "\u001b[1;32m<ipython-input-13-0a7142df85bb>\u001b[0m in \u001b[0;36mshowFeature\u001b[1;34m(pcd, pcdf, eps)\u001b[0m\n\u001b[0;32m      3\u001b[0m     \u001b[1;31m# plt.plot(list(range(len(scale0))), scale0)\u001b[0m\u001b[1;33m\u001b[0m\u001b[1;33m\u001b[0m\u001b[1;33m\u001b[0m\u001b[0m\n\u001b[0;32m      4\u001b[0m     \u001b[1;31m# plt.show()\u001b[0m\u001b[1;33m\u001b[0m\u001b[1;33m\u001b[0m\u001b[1;33m\u001b[0m\u001b[0m\n\u001b[1;32m----> 5\u001b[1;33m     \u001b[0mpcdc\u001b[0m \u001b[1;33m=\u001b[0m \u001b[0mnp\u001b[0m\u001b[1;33m.\u001b[0m\u001b[0mhstack\u001b[0m\u001b[1;33m(\u001b[0m\u001b[1;33m[\u001b[0m\u001b[0mnp\u001b[0m\u001b[1;33m.\u001b[0m\u001b[0masarray\u001b[0m\u001b[1;33m(\u001b[0m\u001b[0mpcd\u001b[0m\u001b[1;33m.\u001b[0m\u001b[0mpoints\u001b[0m\u001b[1;33m)\u001b[0m\u001b[1;33m,\u001b[0m \u001b[0mscale\u001b[0m\u001b[1;33m.\u001b[0m\u001b[0mreshape\u001b[0m\u001b[1;33m(\u001b[0m\u001b[1;33m-\u001b[0m\u001b[1;36m1\u001b[0m\u001b[1;33m,\u001b[0m\u001b[1;36m1\u001b[0m\u001b[1;33m)\u001b[0m\u001b[1;33m]\u001b[0m\u001b[1;33m)\u001b[0m\u001b[1;33m\u001b[0m\u001b[1;33m\u001b[0m\u001b[0m\n\u001b[0m\u001b[0;32m      6\u001b[0m     \u001b[0mpcdc\u001b[0m \u001b[1;33m=\u001b[0m \u001b[0mpcdc\u001b[0m\u001b[1;33m[\u001b[0m\u001b[1;33m(\u001b[0m\u001b[0mscale\u001b[0m\u001b[1;33m>=\u001b[0m\u001b[1;36m300\u001b[0m\u001b[1;33m)\u001b[0m \u001b[1;33m&\u001b[0m \u001b[1;33m(\u001b[0m\u001b[0mscale\u001b[0m\u001b[1;33m<=\u001b[0m\u001b[1;36m350\u001b[0m\u001b[1;33m)\u001b[0m\u001b[1;33m]\u001b[0m\u001b[1;33m\u001b[0m\u001b[1;33m\u001b[0m\u001b[0m\n\u001b[0;32m      7\u001b[0m     \u001b[0mpcdc\u001b[0m\u001b[1;33m[\u001b[0m\u001b[1;33m:\u001b[0m\u001b[1;33m,\u001b[0m\u001b[1;36m3\u001b[0m\u001b[1;33m]\u001b[0m \u001b[1;33m=\u001b[0m \u001b[1;36m1\u001b[0m\u001b[1;33m-\u001b[0m\u001b[1;33m(\u001b[0m\u001b[0mpcdc\u001b[0m\u001b[1;33m[\u001b[0m\u001b[1;33m:\u001b[0m\u001b[1;33m,\u001b[0m\u001b[1;36m3\u001b[0m\u001b[1;33m]\u001b[0m\u001b[1;33m-\u001b[0m\u001b[0mpcdc\u001b[0m\u001b[1;33m[\u001b[0m\u001b[1;33m:\u001b[0m\u001b[1;33m,\u001b[0m\u001b[1;36m3\u001b[0m\u001b[1;33m]\u001b[0m\u001b[1;33m.\u001b[0m\u001b[0mmin\u001b[0m\u001b[1;33m(\u001b[0m\u001b[1;33m)\u001b[0m\u001b[1;33m)\u001b[0m\u001b[1;33m/\u001b[0m\u001b[1;33m(\u001b[0m\u001b[0mpcdc\u001b[0m\u001b[1;33m[\u001b[0m\u001b[1;33m:\u001b[0m\u001b[1;33m,\u001b[0m\u001b[1;36m3\u001b[0m\u001b[1;33m]\u001b[0m\u001b[1;33m.\u001b[0m\u001b[0mmax\u001b[0m\u001b[1;33m(\u001b[0m\u001b[1;33m)\u001b[0m\u001b[1;33m-\u001b[0m\u001b[0mpcdc\u001b[0m\u001b[1;33m[\u001b[0m\u001b[1;33m:\u001b[0m\u001b[1;33m,\u001b[0m\u001b[1;36m3\u001b[0m\u001b[1;33m]\u001b[0m\u001b[1;33m.\u001b[0m\u001b[0mmin\u001b[0m\u001b[1;33m(\u001b[0m\u001b[1;33m)\u001b[0m\u001b[1;33m)\u001b[0m\u001b[1;33m\u001b[0m\u001b[1;33m\u001b[0m\u001b[0m\n",
      "\u001b[1;32m<__array_function__ internals>\u001b[0m in \u001b[0;36mhstack\u001b[1;34m(*args, **kwargs)\u001b[0m\n",
      "\u001b[1;32mD:\\Python38_64\\lib\\site-packages\\numpy\\core\\shape_base.py\u001b[0m in \u001b[0;36mhstack\u001b[1;34m(tup)\u001b[0m\n\u001b[0;32m    343\u001b[0m         \u001b[1;32mreturn\u001b[0m \u001b[0m_nx\u001b[0m\u001b[1;33m.\u001b[0m\u001b[0mconcatenate\u001b[0m\u001b[1;33m(\u001b[0m\u001b[0marrs\u001b[0m\u001b[1;33m,\u001b[0m \u001b[1;36m0\u001b[0m\u001b[1;33m)\u001b[0m\u001b[1;33m\u001b[0m\u001b[1;33m\u001b[0m\u001b[0m\n\u001b[0;32m    344\u001b[0m     \u001b[1;32melse\u001b[0m\u001b[1;33m:\u001b[0m\u001b[1;33m\u001b[0m\u001b[1;33m\u001b[0m\u001b[0m\n\u001b[1;32m--> 345\u001b[1;33m         \u001b[1;32mreturn\u001b[0m \u001b[0m_nx\u001b[0m\u001b[1;33m.\u001b[0m\u001b[0mconcatenate\u001b[0m\u001b[1;33m(\u001b[0m\u001b[0marrs\u001b[0m\u001b[1;33m,\u001b[0m \u001b[1;36m1\u001b[0m\u001b[1;33m)\u001b[0m\u001b[1;33m\u001b[0m\u001b[1;33m\u001b[0m\u001b[0m\n\u001b[0m\u001b[0;32m    346\u001b[0m \u001b[1;33m\u001b[0m\u001b[0m\n\u001b[0;32m    347\u001b[0m \u001b[1;33m\u001b[0m\u001b[0m\n",
      "\u001b[1;32m<__array_function__ internals>\u001b[0m in \u001b[0;36mconcatenate\u001b[1;34m(*args, **kwargs)\u001b[0m\n",
      "\u001b[1;31mValueError\u001b[0m: all the input array dimensions for the concatenation axis must match exactly, but along dimension 0, the array at index 0 has size 35414 and the array at index 1 has size 1008"
     ]
    }
   ],
   "source": [
    "srcc = showFeature(srcd, srcf)\n",
    "tgtc = showFeature(tgtd, tgtf)"
   ]
  },
  {
   "cell_type": "code",
   "execution_count": 54,
   "metadata": {},
   "outputs": [],
   "source": [
    "fig = dynVisual([srcc, tgtc], [\"src\", \"tgt\"], 0.5, 4)\n",
    "fig.write_html(\"cloudpoint.html\")"
   ]
  },
  {
   "cell_type": "code",
   "execution_count": 55,
   "metadata": {},
   "outputs": [],
   "source": [
    "fig = dynVisual([srcc], [\"src\"], 0.5, 4)\n",
    "fig.write_html(\"cloudsrc.html\")"
   ]
  },
  {
   "cell_type": "code",
   "execution_count": 56,
   "metadata": {},
   "outputs": [],
   "source": [
    "fig = dynVisual([tgtc], [\"tgt\"], 0.5, 4)\n",
    "fig.write_html(\"cloudtgt.html\")"
   ]
  },
  {
   "cell_type": "code",
   "execution_count": 16,
   "metadata": {},
   "outputs": [
    {
     "output_type": "execute_result",
     "data": {
      "text/plain": [
       "(33, 35414)"
      ]
     },
     "metadata": {},
     "execution_count": 16
    }
   ],
   "source": [
    "srcf.data.shape"
   ]
  },
  {
   "cell_type": "code",
   "execution_count": 17,
   "metadata": {},
   "outputs": [
    {
     "output_type": "execute_result",
     "data": {
      "text/plain": [
       "std::vector<Eigen::Vector3d> with 35414 elements.\n",
       "Use numpy.asarray() to access data."
      ]
     },
     "metadata": {},
     "execution_count": 17
    }
   ],
   "source": [
    "src.points"
   ]
  }
 ]
}