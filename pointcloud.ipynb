{
 "metadata": {
  "language_info": {
   "codemirror_mode": {
    "name": "ipython",
    "version": 3
   },
   "file_extension": ".py",
   "mimetype": "text/x-python",
   "name": "python",
   "nbconvert_exporter": "python",
   "pygments_lexer": "ipython3",
   "version": "3.8.6"
  },
  "orig_nbformat": 2,
  "kernelspec": {
   "name": "python386jvsc74a57bd08d7437d109cb4990f43ee27100ea9916bfedca7758194b0fcdd55f6030d2bfdf",
   "display_name": "Python 3.8.6 64-bit"
  }
 },
 "nbformat": 4,
 "nbformat_minor": 2,
 "cells": [
  {
   "cell_type": "code",
   "execution_count": 1,
   "metadata": {},
   "outputs": [],
   "source": [
    "import numpy as np\n",
    "import sys \n",
    "from matplotlib import pyplot as plt\n",
    "from mpl_toolkits.mplot3d import Axes3D\n",
    "import plotly.graph_objs as go"
   ]
  },
  {
   "cell_type": "code",
   "execution_count": 11,
   "metadata": {},
   "outputs": [],
   "source": [
    "from readData import *\n",
    "from showFig import *\n",
    "from showCloud import *"
   ]
  },
  {
   "cell_type": "code",
   "execution_count": 12,
   "metadata": {},
   "outputs": [
    {
     "output_type": "stream",
     "name": "stdout",
     "text": [
      "read in ..\\dataset\\scan0.npy\nx range: -197 ~ 198\ny range: -153 ~ 145\nz range: -66 ~ 0\nread in ..\\dataset\\scan1.npy\nx range: -197 ~ 198\ny range: -158 ~ 145\nz range: -69 ~ 0\n"
     ]
    }
   ],
   "source": [
    "points0, mat0 = getPoints(\"..\\dataset\\scan0.npy\", prange=(200, 150, (-100, -30)), skip=20)\n",
    "points1, mat1 = getPoints(\"..\\dataset\\scan1.npy\", prange=(200, 150, (-100, -30)), skip=20)"
   ]
  },
  {
   "cell_type": "code",
   "execution_count": 14,
   "metadata": {},
   "outputs": [],
   "source": [
    "fig = dynVisual([points0, points1], [\"src\", \"tgt\"], 0.5, 1)\n",
    "fig.write_html(\"cloud.html\")\n",
    "# fig.show()"
   ]
  },
  {
   "cell_type": "code",
   "execution_count": 8,
   "metadata": {},
   "outputs": [
    {
     "output_type": "stream",
     "name": "stdout",
     "text": [
      "read in glu/glue1\n",
      "x range: -192 ~ 195\n",
      "y range: -146 ~ 147\n",
      "z range: -86 ~ 107\n",
      "read in glu/glue2\n",
      "x range: -193 ~ 199\n",
      "y range: -147 ~ 147\n",
      "z range: -89 ~ 104\n"
     ]
    }
   ],
   "source": [
    "fig = dynVisual(names=[\"..\\glu\\glue1\", \"..\\glu\\glue2\"], skip=40, zaugment=2, s=1)\n",
    "# fig = addCloud(fig, [\"stitch\\SizectorS_PointCloudExport2\"], skip=20, zaugment=1)\n",
    "# fig = addCloud(fig, [\"stitch\\SizectorS_PointCloudExport3\"], skip=20, zaugment=1)\n",
    "fig.write_html(\"cloudpointglue.html\")"
   ]
  },
  {
   "cell_type": "code",
   "execution_count": null,
   "metadata": {},
   "outputs": [],
   "source": [
    "pp = np.load(\"scan7.npy\")\n",
    "mat = pp[:972*736, 3]\n",
    "mat = mat.reshape((736, 972))\n",
    "plt.imshow(mat, cmap=\"gray\")"
   ]
  }
 ]
}