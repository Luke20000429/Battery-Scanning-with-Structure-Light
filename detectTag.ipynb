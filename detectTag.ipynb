{
 "metadata": {
  "language_info": {
   "codemirror_mode": {
    "name": "ipython",
    "version": 3
   },
   "file_extension": ".py",
   "mimetype": "text/x-python",
   "name": "python",
   "nbconvert_exporter": "python",
   "pygments_lexer": "ipython3",
   "version": "3.8.6"
  },
  "orig_nbformat": 2,
  "kernelspec": {
   "name": "python386jvsc74a57bd08d7437d109cb4990f43ee27100ea9916bfedca7758194b0fcdd55f6030d2bfdf",
   "display_name": "Python 3.8.6 64-bit"
  }
 },
 "nbformat": 4,
 "nbformat_minor": 2,
 "cells": [
  {
   "cell_type": "code",
   "execution_count": 1,
   "metadata": {},
   "outputs": [],
   "source": [
    "import cv2\n",
    "import sys\n",
    "sys.path.append(\"./TagDetection/\")\n",
    "from apriltag import Apriltag\n",
    "from matplotlib import pyplot as plt"
   ]
  },
  {
   "cell_type": "code",
   "execution_count": 2,
   "metadata": {},
   "outputs": [],
   "source": [
    "from readData import *\n",
    "from showFig import *\n",
    "from showCloud import *\n",
    "from warp import *\n",
    "from transform import Transformer\n",
    "\n",
    "\n",
    "tf = Transformer()\n"
   ]
  },
  {
   "cell_type": "code",
   "execution_count": 3,
   "metadata": {},
   "outputs": [],
   "source": [
    "def plotMarkers(frame, detections, name=None):\n",
    "    plt.figure().set_size_inches(20, 10)\n",
    "    plt.imshow(frame)\n",
    "    plt.gray()\n",
    "    for detection in detections:\n",
    "        convex = np.array(detection.points)\n",
    "        showpoint = np.array(detection.markers)\n",
    "        plt.plot(showpoint[:, 1], showpoint[:, 0], 'rx')\n",
    "        plt.plot(convex[:, 0, 0], convex[:, 0, 1], 'b.')\n",
    "    plt.imshow(frame)\n",
    "    plt.gray()\n",
    "    if name:\n",
    "        plt.savefig(name)\n",
    "    # plt.show()\n",
    "\n",
    "\n",
    "def findMarker(num=4):\n",
    "    ap = Apriltag()\n",
    "    ap.create_detector(family='tag16h5', debug=False)\n",
    "    for i in range(num):\n",
    "        points, frame = getPoints(\"..\\plane\\marker%d.npy\"%i)\n",
    "        detections = ap.detect(frame)\n",
    "        if len(detections) > 0:\n",
    "            print(len(detections))\n",
    "            print('%d 识别成功'%i)\n",
    "            plotMarkers(frame, detections, \"marker%d.png\"%i)\n",
    "        else:\n",
    "            print('%d 识别失败'%i)\n",
    "\n"
   ]
  },
  {
   "cell_type": "code",
   "execution_count": 4,
   "metadata": {},
   "outputs": [],
   "source": [
    "ap = Apriltag()\n",
    "ap.create_detector(family='tag16h5', debug=False)"
   ]
  },
  {
   "cell_type": "code",
   "execution_count": 5,
   "metadata": {},
   "outputs": [
    {
     "output_type": "stream",
     "name": "stdout",
     "text": [
      "read in ..\\plane\\marker0.npy\nx range: -196 ~ 1195\ny range: -813 ~ 145\nz range: -9869 ~ 364\n1\n识别成功\n"
     ]
    }
   ],
   "source": [
    "cloud0, frame = getPoints(\"..\\plane\\marker0.npy\")\n",
    "detections = ap.detect(frame)\n",
    "if len(detections) > 0:\n",
    "    print(len(detections))\n",
    "    print('识别成功')\n",
    "    # plotMarkers(frame, detections)\n",
    "    points = tf.pix2point(detections[0].points, cloud0)\n",
    "    tf.tgt = points\n",
    "else:\n",
    "    print('识别失败')"
   ]
  },
  {
   "cell_type": "code",
   "execution_count": 6,
   "metadata": {},
   "outputs": [
    {
     "output_type": "stream",
     "name": "stdout",
     "text": [
      "read in ..\\plane\\marker1.npy\nx range: -431 ~ 18187\ny range: -25187 ~ 676\nz range: -129112 ~ 4105\n2\n识别成功\n"
     ]
    }
   ],
   "source": [
    "cloud1, frame = getPoints(\"..\\plane\\marker1.npy\")\n",
    "detections = ap.detect(frame)\n",
    "if len(detections) > 0:\n",
    "    print(len(detections))\n",
    "    print('识别成功')\n",
    "    # plotMarkers(frame, [detections[0]])\n",
    "    points = tf.pix2point(detections[0].points, cloud1)\n",
    "    tf.src = points\n",
    "else:\n",
    "    print('识别失败')"
   ]
  },
  {
   "cell_type": "code",
   "execution_count": 7,
   "metadata": {},
   "outputs": [],
   "source": [
    "T = tf.fit()\n",
    "transCloud = tf.transform(cloud1)"
   ]
  },
  {
   "cell_type": "code",
   "execution_count": 8,
   "metadata": {},
   "outputs": [],
   "source": [
    "dcloud0 = filterPoints(cloud0, (400, 300, (-100, -30)), skip=20)\n",
    "dcloud1 = filterPoints(transCloud, (400, 300, (-100, -30)), skip=20)\n",
    "fig = dynVisual([dcloud0, dcloud1], [\"tgt\", \"src\"])\n",
    "fig.write_html(\"merge.html\")"
   ]
  },
  {
   "cell_type": "code",
   "execution_count": null,
   "metadata": {},
   "outputs": [],
   "source": []
  }
 ]
}