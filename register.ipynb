{
 "metadata": {
  "language_info": {
   "codemirror_mode": {
    "name": "ipython",
    "version": 3
   },
   "file_extension": ".py",
   "mimetype": "text/x-python",
   "name": "python",
   "nbconvert_exporter": "python",
   "pygments_lexer": "ipython3",
   "version": "3.8.6"
  },
  "orig_nbformat": 2,
  "kernelspec": {
   "name": "python386jvsc74a57bd08d7437d109cb4990f43ee27100ea9916bfedca7758194b0fcdd55f6030d2bfdf",
   "display_name": "Python 3.8.6 64-bit"
  }
 },
 "nbformat": 4,
 "nbformat_minor": 2,
 "cells": [
  {
   "cell_type": "code",
   "execution_count": 1,
   "metadata": {},
   "outputs": [],
   "source": [
    "import numpy as np\n",
    "import open3d as o3d\n",
    "import copy"
   ]
  },
  {
   "cell_type": "code",
   "execution_count": 2,
   "metadata": {},
   "outputs": [],
   "source": [
    "from readData import *\n",
    "from showFig import *\n",
    "from showCloud import *\n",
    "from warp import *"
   ]
  },
  {
   "cell_type": "code",
   "execution_count": 3,
   "metadata": {},
   "outputs": [
    {
     "output_type": "stream",
     "name": "stdout",
     "text": [
      "read in ..\\dataset\\scan1.npy\nx range: -197 ~ 198\ny range: -158 ~ 145\nz range: -69 ~ 0\nread in ..\\dataset\\scan2.npy\nx range: -197 ~ 1326\ny range: -1076 ~ 145\nz range: -10150 ~ 365\n"
     ]
    }
   ],
   "source": [
    "points0, mat0 = getPoints(\"..\\dataset\\scan1.npy\", prange=(200, 150, (-100, -30)), skip=20)\n",
    "points1, mat1 = getPoints(\"..\\dataset\\scan2.npy\", prange=(200, 150, (-100, -30)), skip=20)"
   ]
  },
  {
   "cell_type": "code",
   "execution_count": 5,
   "metadata": {},
   "outputs": [],
   "source": [
    "def draw_transform(src, tgt, T):\n",
    "    srct = copy.deepcopy(src)\n",
    "    tgtt = copy.deepcopy(tgt)\n",
    "    srct.paint_uniform_color([1, 0.5, 0])\n",
    "    tgtt.paint_uniform_color([0, 0.5, 0.9])\n",
    "    srct.transform(T)\n",
    "    o3d.visualization.draw_geometries([srct, tgtt])\n",
    "    return src.transform(T)"
   ]
  },
  {
   "cell_type": "code",
   "execution_count": 6,
   "metadata": {},
   "outputs": [],
   "source": [
    "def preprocess(pcd, voxel_size):\n",
    "    pcd_down = pcd.voxel_down_sample(voxel_size)\n",
    "    radius_normal = voxel_size * 2\n",
    "    pcd_down.estimate_normals(\n",
    "        o3d.geometry.KDTreeSearchParamHybrid(radius=radius_normal, max_nn=30)\n",
    "    )\n",
    "\n",
    "    radius_feature = voxel_size * 5\n",
    "    pcd_fpfh = o3d.pipelines.registration.compute_fpfh_feature(\n",
    "        pcd_down,\n",
    "        o3d.geometry.KDTreeSearchParamHybrid(radius=radius_feature, max_nn=100)\n",
    "    )\n",
    "\n",
    "    return pcd_down, pcd_fpfh "
   ]
  },
  {
   "cell_type": "code",
   "execution_count": 7,
   "metadata": {},
   "outputs": [],
   "source": [
    "voxel_size = 0.01\n",
    "src = o3d.geometry.PointCloud()\n",
    "src.points = o3d.utility.Vector3dVector(points0)\n",
    "tgt = o3d.geometry.PointCloud()\n",
    "tgt.points = o3d.utility.Vector3dVector(points1)\n",
    "# o3d.visualization.draw_geometries([src, tgt])\n",
    "srcd, srcf = preprocess(src, voxel_size)\n",
    "tgtd, tgtf = preprocess(tgt, voxel_size)"
   ]
  },
  {
   "cell_type": "code",
   "execution_count": 9,
   "metadata": {},
   "outputs": [],
   "source": [
    "fig = dynVisual([np.asarray(src.points), np.asarray(tgt.points)], [\"src\", \"tgt\"], 1, 4)\n",
    "fig.write_html(\"cloudpoint.html\")"
   ]
  },
  {
   "cell_type": "code",
   "execution_count": 10,
   "metadata": {},
   "outputs": [
    {
     "output_type": "execute_result",
     "data": {
      "text/plain": [
       "PointCloud with 35445 points."
      ]
     },
     "metadata": {},
     "execution_count": 10
    }
   ],
   "source": [
    "result = o3d.pipelines.registration.registration_fast_based_on_feature_matching(\n",
    "    srcd, tgtd,\n",
    "    srcf, tgtf\n",
    ")\n",
    "draw_transform(srcd, tgtd, result.transformation)"
   ]
  },
  {
   "cell_type": "code",
   "execution_count": null,
   "metadata": {},
   "outputs": [],
   "source": []
  }
 ]
}